{
  "nbformat": 4,
  "nbformat_minor": 0,
  "metadata": {
    "colab": {
      "provenance": [],
      "authorship_tag": "ABX9TyO5xkB0NQh8btgMKDPOUm+U",
      "include_colab_link": true
    },
    "kernelspec": {
      "name": "python3",
      "display_name": "Python 3"
    },
    "language_info": {
      "name": "python"
    }
  },
  "cells": [
    {
      "cell_type": "markdown",
      "metadata": {
        "id": "view-in-github",
        "colab_type": "text"
      },
      "source": [
        "<a href=\"https://colab.research.google.com/github/jett220201/MachineLearning/blob/main/Penguins/Penguin.ipynb\" target=\"_parent\"><img src=\"https://colab.research.google.com/assets/colab-badge.svg\" alt=\"Open In Colab\"/></a>"
      ]
    },
    {
      "cell_type": "markdown",
      "source": [
        "Importación de librerias\n"
      ],
      "metadata": {
        "id": "Sgr3v7E7-pdW"
      }
    },
    {
      "cell_type": "code",
      "execution_count": null,
      "metadata": {
        "id": "YR-rD7gP13G8"
      },
      "outputs": [],
      "source": [
        "import pandas as pd\n",
        "import numpy as np\n",
        "from sklearn.preprocessing import StandardScaler\n",
        "from sklearn.model_selection import train_test_split\n",
        "from sklearn.neighbors import KNeighborsClassifier\n",
        "from sklearn.model_selection import GridSearchCV\n",
        "from sklearn.metrics import matthews_corrcoef"
      ]
    },
    {
      "cell_type": "code",
      "source": [
        "penguin = pd.read_csv(\"penguins_size.csv\",sep=\";\")\n",
        "penguin.shape"
      ],
      "metadata": {
        "id": "QKhGyvMQ2zm4",
        "colab": {
          "base_uri": "https://localhost:8080/"
        },
        "outputId": "2504a499-4a31-43d1-c6cc-ce25cc20a0b7"
      },
      "execution_count": null,
      "outputs": [
        {
          "output_type": "execute_result",
          "data": {
            "text/plain": [
              "(344, 7)"
            ]
          },
          "metadata": {},
          "execution_count": 12
        }
      ]
    },
    {
      "cell_type": "markdown",
      "source": [
        "Adecuación del Dataset\n"
      ],
      "metadata": {
        "id": "6k0C4iD_u_Lg"
      }
    },
    {
      "cell_type": "code",
      "source": [
        "#Calculo de la moda de la columna SEX para rellenar los espacio vacios\n",
        "countMale = 0\n",
        "for i in range(penguin.shape[0]):\n",
        "  if penguin[\"sex\"][i] == \"MALE\":\n",
        "    countMale += 1\n",
        "if countMale > (penguin.shape[0]-countMale):\n",
        "  Media_Sex = \"MALE\"\n",
        "else:\n",
        "  Media_Sex = \"FEMALE\"\n",
        "print(Media_Sex)"
      ],
      "metadata": {
        "colab": {
          "base_uri": "https://localhost:8080/"
        },
        "id": "GJI_aAOaCiJO",
        "outputId": "4c41331a-e1e1-4240-f777-250a13dc5f41"
      },
      "execution_count": null,
      "outputs": [
        {
          "output_type": "stream",
          "name": "stdout",
          "text": [
            "FEMALE\n"
          ]
        }
      ]
    },
    {
      "cell_type": "code",
      "source": [
        "#Relleno de columnas usando la media de ellas mismas\n",
        "culmen_length_mm_ = penguin[\"culmen_length_mm\"].fillna(penguin[\"culmen_length_mm\"].mean()) #Creación  de columnas con relleno\n",
        "culmen_depth_mm_ = penguin[\"culmen_depth_mm\"].fillna(penguin[\"culmen_depth_mm\"].mean()) #Creación  de columnas con relleno\n",
        "flipper_length_mm_ = penguin[\"flipper_length_mm\"].fillna(penguin[\"flipper_length_mm\"].mean()) #Creación  de columnas con relleno\n",
        "body_mass_g_ = penguin[\"body_mass_g\"].fillna(penguin[\"body_mass_g\"].mean()) #Creación  de columnas con relleno\n",
        "sex_ = penguin[\"sex\"].fillna(Media_Sex) #Creación  de columnas con relleno\n",
        "#Asignación de nuevas columnas con rellenos\n",
        "penguin[\"culmen_length_mm_\"] = culmen_length_mm_\n",
        "penguin[\"culmen_depth_mm_\"] = culmen_depth_mm_\n",
        "penguin[\"flipper_length_mm_\"] = flipper_length_mm_\n",
        "penguin[\"body_mass_g_\"] = body_mass_g_\n",
        "penguin[\"sex_\"] = sex_"
      ],
      "metadata": {
        "id": "jm3fjMlb_fW1"
      },
      "execution_count": null,
      "outputs": []
    },
    {
      "cell_type": "code",
      "source": [
        "penguin.head(10)"
      ],
      "metadata": {
        "id": "xYZthdFTpNLn"
      },
      "execution_count": null,
      "outputs": []
    },
    {
      "cell_type": "code",
      "source": [
        "#Codificación del genero del pingüino: \n",
        "#      1 -> MALE\n",
        "#      0 -> FEMALE\n",
        "lista = penguin[\"sex_\"]\n",
        "lista = list(lista)\n",
        "Gender = []\n",
        "for i in range(len(lista)):\n",
        "  if lista[i] == 'MALE':\n",
        "    Gender.append(1)\n",
        "  else:\n",
        "    Gender.append(0)\n",
        "penguin[\"Gender\"]=Gender\n",
        "penguin.head(10)"
      ],
      "metadata": {
        "id": "KwevKK-5oO1R"
      },
      "execution_count": null,
      "outputs": []
    },
    {
      "cell_type": "code",
      "source": [
        "#Codificación de la isla del pingüino: \n",
        "#      0 -> Dream\n",
        "#      1 -> Torgersen\n",
        "#      2 -> Biscoe\n",
        "lista = penguin[\"island\"]\n",
        "lista = list(lista)\n",
        "IslandOrigin = []\n",
        "for i in range(len(lista)):\n",
        "  if lista[i] == 'Dream':\n",
        "    IslandOrigin.append(0)\n",
        "  elif lista[i] == 'Torgersen':\n",
        "    IslandOrigin.append(1)\n",
        "  else:\n",
        "    IslandOrigin.append(2)\n",
        "penguin[\"Island_Origin\"]=IslandOrigin\n",
        "penguin.head(30)"
      ],
      "metadata": {
        "id": "mS57aqO8u-FC"
      },
      "execution_count": null,
      "outputs": []
    },
    {
      "cell_type": "code",
      "source": [
        "#Codificación de la especie del pingüino: \n",
        "#      0 -> Chinstrap\n",
        "#      1 -> Adélie\n",
        "#      2 -> Gentoo\n",
        "lista = penguin[\"species\"]\n",
        "lista = list(lista)\n",
        "IslandOrigin = []\n",
        "for i in range(len(lista)):\n",
        "  if lista[i] == 'Chinstrap':\n",
        "    IslandOrigin.append(0)\n",
        "  elif lista[i] == 'Adelie':\n",
        "    IslandOrigin.append(1)\n",
        "  else:\n",
        "    IslandOrigin.append(2)\n",
        "penguin[\"Species_p\"]=IslandOrigin\n",
        "penguin.head(30)"
      ],
      "metadata": {
        "id": "lPsb5cMhwRuH"
      },
      "execution_count": null,
      "outputs": []
    },
    {
      "cell_type": "markdown",
      "source": [
        "Asignación de características y etiquetas"
      ],
      "metadata": {
        "id": "5zO04gY7w3iM"
      }
    },
    {
      "cell_type": "code",
      "source": [
        "X = penguin[['culmen_length_mm_', 'culmen_depth_mm_','flipper_length_mm_','body_mass_g_','Island_Origin','Gender']].values #Adquisición de caracteristicas\n",
        "y = penguin['Species_p'].values #Adquisición de etiquetas "
      ],
      "metadata": {
        "id": "Zriyjk88nU4e"
      },
      "execution_count": null,
      "outputs": []
    },
    {
      "cell_type": "markdown",
      "source": [
        "División del Dataset\n"
      ],
      "metadata": {
        "id": "794svDRWG6JF"
      }
    },
    {
      "cell_type": "code",
      "source": [
        "#División del dataset en 10% para evaluar desempeño final y 90% para realizar\n",
        "#entrenamiento y validación cruzada\n",
        "X_train, X_test, y_train, y_test = train_test_split(X, y, test_size=0.1, random_state=0)"
      ],
      "metadata": {
        "id": "Fx7HKA__G5DD"
      },
      "execution_count": null,
      "outputs": []
    },
    {
      "cell_type": "markdown",
      "source": [
        "Partición y normalización del Dataset\n"
      ],
      "metadata": {
        "id": "MtvhSuBOxV-V"
      }
    },
    {
      "cell_type": "code",
      "source": [
        "#Normalización de los datos\n",
        "scaler = StandardScaler()\n",
        "scaler.fit(X_train)\n",
        "X_train = scaler.transform(X_train)\n",
        "X_test = scaler.transform(X_test)"
      ],
      "metadata": {
        "id": "e7GeUkIpxZu7"
      },
      "execution_count": null,
      "outputs": []
    },
    {
      "cell_type": "markdown",
      "source": [
        "#KNN"
      ],
      "metadata": {
        "id": "q6riS5dFm1pN"
      }
    },
    {
      "cell_type": "code",
      "source": [
        "#Iteración de hiper parametros para hallar el mejor clasificador KNN usando Grid Search y Cross Validate\n",
        "parameters_KNN = {'n_neighbors':[1,2,3,4,5,6,7,8,9,10,11,12,13,14,15,16,17,18,19,20], 'metric':('manhattan','euclidean','minkowski', 'chebyshev'), 'weights':('uniform', 'distance')}\n",
        "knn = KNeighborsClassifier()\n",
        "clf = GridSearchCV(knn, parameters_KNN,scoring=\"f1_macro\")\n",
        "clf.fit(X_train, y_train)\n",
        "print(\"Best estimator: \" + str(clf.best_estimator_) + \"\\nwith metrics: \" + str(clf.best_params_) + \" and score: \" + str(clf.best_score_))"
      ],
      "metadata": {
        "colab": {
          "base_uri": "https://localhost:8080/"
        },
        "id": "y9N1o84Dmm7w",
        "outputId": "78c966b3-9369-4044-c04d-9453f63da365"
      },
      "execution_count": null,
      "outputs": [
        {
          "output_type": "stream",
          "name": "stdout",
          "text": [
            "Best estimator: KNeighborsClassifier(metric='chebyshev', n_neighbors=3)\n",
            "with metrics: {'metric': 'chebyshev', 'n_neighbors': 3, 'weights': 'uniform'} and score: 1.0\n"
          ]
        }
      ]
    },
    {
      "cell_type": "code",
      "source": [
        "#Re entrenamiento usando el 90% y validación de resultados usando el 10% y MCC\n",
        "knn = KNeighborsClassifier(n_neighbors = 3,weights = 'uniform', metric = 'chebyshev')\n",
        "knn.fit(X_train, y_train) \n",
        "print('MCC = ',matthews_corrcoef(y_test,knn.predict(X_test)))"
      ],
      "metadata": {
        "colab": {
          "base_uri": "https://localhost:8080/"
        },
        "id": "sRzfUKpeRhy_",
        "outputId": "11ddc468-cde6-4048-fea5-0ebfb046c42e"
      },
      "execution_count": null,
      "outputs": [
        {
          "output_type": "stream",
          "name": "stdout",
          "text": [
            "MCC =  0.9517157683494257\n"
          ]
        }
      ]
    }
  ]
}